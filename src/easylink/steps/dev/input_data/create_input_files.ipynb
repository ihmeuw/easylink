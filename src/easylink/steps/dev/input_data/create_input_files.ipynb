{
 "cells": [
  {
   "cell_type": "code",
   "execution_count": 1,
   "id": "587cc541-705a-4fdd-9c6c-58d598b05920",
   "metadata": {
    "tags": []
   },
   "outputs": [],
   "source": [
    "import pandas as pd, numpy as np"
   ]
  },
  {
   "cell_type": "code",
   "execution_count": null,
   "id": "858c6241-2ca6-4e7d-9966-f005dbf351e2",
   "metadata": {
    "tags": []
   },
   "outputs": [],
   "source": [
    "df = pd.DataFrame({\n",
    "    'foo': range(10_000),\n",
    "    'bar': [\"a\", \"b\", \"c\", \"d\", \"e\"] * 2_000,\n",
    "    'counter': 0,\n",
    "})\n",
    "df"
   ]
  },
  {
   "cell_type": "code",
   "execution_count": 3,
   "id": "60246217-a625-40de-9e47-7b0c7926cd82",
   "metadata": {
    "tags": []
   },
   "outputs": [],
   "source": [
    "df.to_csv('input_file_1.csv', index=False)\n",
    "df.to_parquet('input_file_1.parquet')"
   ]
  },
  {
   "cell_type": "code",
   "execution_count": null,
   "id": "bade4f06-e7e6-40c5-b234-a8e6b0d520e3",
   "metadata": {
    "tags": []
   },
   "outputs": [],
   "source": [
    "df2 = pd.DataFrame({\n",
    "    'foo': range(10_000, 20_000),\n",
    "    'bar': [\"f\", \"g\", \"h\", \"i\", \"j\"] * 2_000,\n",
    "    'counter': 0,\n",
    "})\n",
    "df2"
   ]
  },
  {
   "cell_type": "code",
   "execution_count": 5,
   "id": "2809c5dc-2120-42e7-90fa-9a434e173b67",
   "metadata": {
    "tags": []
   },
   "outputs": [],
   "source": [
    "df2.to_csv('input_file_2.csv', index=False)\n",
    "df2.to_parquet('input_file_2.parquet')"
   ]
  },
  {
   "cell_type": "code",
   "execution_count": null,
   "id": "948287d7-dad3-407d-a02f-8839da3abc0b",
   "metadata": {},
   "outputs": [],
   "source": []
  }
 ],
 "metadata": {
  "kernelspec": {
   "display_name": "easylink",
   "language": "python",
   "name": "python3"
  },
  "language_info": {
   "codemirror_mode": {
    "name": "ipython",
    "version": 3
   },
   "file_extension": ".py",
   "mimetype": "text/x-python",
   "name": "python",
   "nbconvert_exporter": "python",
   "pygments_lexer": "ipython3",
   "version": "3.12.7"
  }
 },
 "nbformat": 4,
 "nbformat_minor": 5
}
